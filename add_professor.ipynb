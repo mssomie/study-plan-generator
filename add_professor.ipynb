{
 "cells": [
  {
   "cell_type": "code",
   "execution_count": 29,
   "metadata": {},
   "outputs": [
    {
     "data": {
      "text/plain": [
       "<flask_cors.extension.CORS at 0x16a7b34c0>"
      ]
     },
     "execution_count": 29,
     "metadata": {},
     "output_type": "execute_result"
    }
   ],
   "source": [
    "# Import dotenv, os and Pinecone\n",
    "from dotenv import load_dotenv\n",
    "load_dotenv()\n",
    "import os\n",
    "from pinecone import Pinecone, ServerlessSpec\n",
    "from flask import Flask, request, jsonify\n",
    "from flask_cors import CORS\n",
    "import requests \n",
    "import logging\n",
    "logging.basicConfig(level = logging.INFO)\n",
    "app= Flask(__name__)\n",
    "CORS(app)\n",
    "\n"
   ]
  },
  {
   "cell_type": "code",
   "execution_count": 30,
   "metadata": {},
   "outputs": [],
   "source": [
    "# Connect to the pinecone index\n",
    "pc = Pinecone(api_key=os.getenv(\"PINECONE_API_KEY\"))\n",
    "index = pc.Index(\"rmp-rag\")"
   ]
  },
  {
   "cell_type": "code",
   "execution_count": 27,
   "metadata": {},
   "outputs": [
    {
     "name": "stdout",
     "output_type": "stream",
     "text": [
      " * Serving Flask app '__main__'\n",
      " * Debug mode: off\n"
     ]
    },
    {
     "name": "stderr",
     "output_type": "stream",
     "text": [
      "\u001b[31m\u001b[1mWARNING: This is a development server. Do not use it in a production deployment. Use a production WSGI server instead.\u001b[0m\n",
      " * Running on http://127.0.0.1:5000\n",
      "\u001b[33mPress CTRL+C to quit\u001b[0m\n",
      "127.0.0.1 - - [27/Aug/2024 16:13:44] \"\u001b[33mGET / HTTP/1.1\u001b[0m\" 404 -\n"
     ]
    }
   ],
   "source": [
    "@app.route('/add_professor', methods=['POST'])\n",
    "\n",
    "def add_professor_handler():\n",
    "    logging.info(f\"Received request: {request.json}\")\n",
    "\n",
    "    # Get professor's information by scrapping the provided RMP link\n",
    "    data = request.json\n",
    "    url=data.get('url')\n",
    "\n",
    "    if not url:\n",
    "        return jsonify({'error': 'No URL provided'}), 400\n",
    "\n",
    "    try:\n",
    "        headers={\n",
    "            \"User-Agent\": \"Mozilla/5.0 (Windows NT 10.0; Win64; x64) AppleWebKit/537.36 (KHTML, like Gecko) Chrome/91.0.4472.124 Safari/537.36\"\n",
    "\n",
    "        }\n",
    "        page = requests.get(url, headers=headers)\n",
    "\n",
    "        if page.status_code!=200:\n",
    "            return jsonify({'error': 'Failed to retrieve page', 'status_code': page.status_code}), page.status_code\n",
    "\n",
    "        from bs4 import BeautifulSoup\n",
    "        soup = BeautifulSoup(page.content, 'html.parser')\n",
    "\n",
    "        name = soup.find(class_=\"NameTitle__Name-dowf0z-0 cfjPUG\").getText()\n",
    "        rating = soup.find(class_=\"RatingValue__Numerator-qw8sqy-2 liyUjw\").getText()\n",
    "        subject = soup.find(class_=\"TeacherDepartment__StyledDepartmentLink-fl79e8-0 iMmVHb\").getText()\n",
    "        ratings = soup.find(class_=\"Comments__StyledComments-dzzyvm-0 gRjWel\")\n",
    "        reviews= [rev.getText() for rev in ratings]\n",
    "        review = {\n",
    "            \"professor\": name,\n",
    "            \"subject\": subject,\n",
    "            \"stars\": rating,\n",
    "            \"review\": reviews,\n",
    "\n",
    "        }\n",
    "\n",
    "        print(review)\n",
    "\n",
    "        from langchain.embeddings import HuggingFaceEmbeddings\n",
    "        processed_data = []\n",
    "        # Load the pretrained model\n",
    "        model= HuggingFaceEmbeddings(model_name='sentence-transformers/all-MiniLM-L6-v2')\n",
    "\n",
    "        # Create embeddings (numerical sematic relationship of words)\n",
    "\n",
    "        embedding = model.embed_query(review[\"review\"][0])\n",
    "\n",
    "        processed_data.append({\n",
    "            \"values\": embedding,\n",
    "            \"id\": review[\"professor\"],\n",
    "            \"metadata\":{\n",
    "                \"review\": review[\"review\"],\n",
    "                \"subject\": review[\"subject\"],\n",
    "                \"stars\": review[\"stars\"]\n",
    "            }\n",
    "        })\n",
    "\n",
    "        # Insert embedding into vector database\n",
    "        index.upsert(\n",
    "            vectors = processed_data,\n",
    "            namespace = \"ns1\"\n",
    "        )\n",
    "\n",
    "        return jsonify({\"message\": \"Successfully added!\", \"review\": review}),200\n",
    "\n",
    "    except Exception as e:\n",
    "        return jsonify({'error': str(e)}), 500\n",
    "    \n",
    "\n",
    "if __name__== '__main__':\n",
    "    app.run(port=5000)\n"
   ]
  },
  {
   "cell_type": "code",
   "execution_count": null,
   "metadata": {},
   "outputs": [
    {
     "data": {
      "text/plain": [
       "{'upserted_count': 1}"
      ]
     },
     "execution_count": 14,
     "metadata": {},
     "output_type": "execute_result"
    }
   ],
   "source": []
  }
 ],
 "metadata": {
  "kernelspec": {
   "display_name": "rag",
   "language": "python",
   "name": "python3"
  },
  "language_info": {
   "codemirror_mode": {
    "name": "ipython",
    "version": 3
   },
   "file_extension": ".py",
   "mimetype": "text/x-python",
   "name": "python",
   "nbconvert_exporter": "python",
   "pygments_lexer": "ipython3",
   "version": "3.10.14"
  }
 },
 "nbformat": 4,
 "nbformat_minor": 2
}
